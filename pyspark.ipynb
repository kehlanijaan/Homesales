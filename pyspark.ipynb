{
 "cells": [
  {
   "cell_type": "markdown",
   "id": "61b6faea",
   "metadata": {},
   "source": [
    "# In this challenge, you'll use your knowledge of SparkSQL to determine key metrics about home sales data. Then you'll use Spark to create temporary views, partition the data, cache and uncache a temporary table, and verify that the table has been uncached."
   ]
  },
  {
   "cell_type": "code",
   "execution_count": null,
   "id": "c991be46",
   "metadata": {},
   "outputs": [],
   "source": [
    "import os \n",
    "#spark version = 'spark-3.5.1'\n",
    "spark_version = 'spark-3.5.1'\n",
    "os.environ['SPARK VERSION']=spark_version"
   ]
  },
  {
   "cell_type": "code",
   "execution_count": null,
   "id": "5a930f59",
   "metadata": {},
   "outputs": [],
   "source": [
    "# Set Environment Variables\n",
    "os.environ[\"JAVA_HOME\"] = \"/usr/lib/jvm/java-11-openjdk-amd64\"\n",
    "os.environ[\"SPARK_HOME\"] = f\"/content/{spark_version}-bin-hadoop3\""
   ]
  },
  {
   "cell_type": "code",
   "execution_count": null,
   "id": "8609eef2",
   "metadata": {},
   "outputs": [],
   "source": [
    "#Import findspark and initialize \n",
    "import findspark \n",
    "findspark.init()"
   ]
  },
  {
   "cell_type": "code",
   "execution_count": null,
   "id": "e10482c8",
   "metadata": {},
   "outputs": [],
   "source": [
    "# Import packages\n",
    "import pyspark\n",
    "from pyspark.sql import SparkSession\n",
    "import time"
   ]
  },
  {
   "cell_type": "code",
   "execution_count": null,
   "id": "c69ff86f",
   "metadata": {},
   "outputs": [],
   "source": [
    "#Read in the AWS S3 bucket into a DataFrame\n",
    "from pyspark import SparkFiles\n",
    "url = \"https://2u-data-curriculum-team.s3.amazonaws.com/dataviz-classroom/v1.2/22-big-data/home_sales_revised.csv\""
   ]
  },
  {
   "cell_type": "code",
   "execution_count": null,
   "id": "76e06ebe",
   "metadata": {},
   "outputs": [],
   "source": [
    "# 1. Read in the AWS S3 bucket into a DataFrame.\n",
    "from pyspark import SparkFiles\n",
    "url = \"https://2u-data-curriculum-team.s3.amazonaws.com/dataviz-classroom/v1.2/22-big-data/home_sales_revised.csv\"\n",
    "spark.sparkContext.addFile(url)\n",
    "home_df = spark.read.csv(SparkFiles.get(\"home_sales_revised.csv\"), sep=\",\", header=True, ignoreLeadingWhiteSpace=True)\n",
    "home_df.show()"
   ]
  },
  {
   "cell_type": "code",
   "execution_count": 5,
   "id": "d0b56638",
   "metadata": {},
   "outputs": [],
   "source": [
    "#Create a temporary view of the datafame\n",
    "home_df.createOrReplaceTempView('home_data')"
   ]
  },
  {
   "cell_type": "code",
   "execution_count": null,
   "id": "073a9d00",
   "metadata": {},
   "outputs": [],
   "source": [
    "#What is the average price for a four bedroom house sold per year, rounded to two decimal places?\n",
    "avg_price_4_bedroom = spark.sql(\"SELECT ROUND(AVG(price),2), YEAR(date) from home_data where bedrooms == 4 group by YEAR(date) ORDER BY YEAR(date) desc\")\n",
    "avg_price_4_bedroom.show()"
   ]
  },
  {
   "cell_type": "code",
   "execution_count": null,
   "id": "b59f3fe1",
   "metadata": {},
   "outputs": [],
   "source": [
    "# 4. What is the average price of a home for each year the home was built,\n",
    "# that have 3 bedrooms and 3 bathrooms, rounded to two decimal places?\n",
    "avg_price_3_bed_3_bath = spark.sql(\"SELECT ROUND(AVG(price),2), date_built from home_data where bedrooms == 3 AND bathrooms == 3 group by date_built ORDER BY date_built desc\")\n",
    "avg_price_3_bed_3_bath.show()"
   ]
  },
  {
   "cell_type": "code",
   "execution_count": null,
   "id": "bced2461",
   "metadata": {},
   "outputs": [],
   "source": [
    "#What is the average price of a home for each year the home was built,\n",
    "# that have 3 bedrooms, 3 bathrooms, with two floors,\n",
    "# and are greater than or equal to 2,000 square feet, rounded to two decimal places?\n",
    "avg_price_3_bed_3_bath_2_floors = spark.sql(\"SELECT ROUND(AVG(price),2), date_built from home_data where bedrooms == 3 AND bathrooms == 3 AND floors == 2 AND sqft_living >= 2000 group by date_built ORDER BY date_built desc\")\n",
    "avg_price_3_bed_3_bath_2_floors.show()\n",
    "\n"
   ]
  },
  {
   "cell_type": "code",
   "execution_count": null,
   "id": "aaec8636",
   "metadata": {},
   "outputs": [],
   "source": [
    "# 6. What is the average price of a home per \"view\" rating, rounded to two decimal places,\n",
    "# having an average home price greater than or equal to $350,000? Order by descending view rating. \n",
    "# Although this is a small dataset, determine the run time for this query.\n",
    "\n",
    "start_time = time.time()\n",
    "\n",
    "spark.sql(\"SELECT view, ROUND(AVG(price),2) from home_data group by view having ROUND(AVG(price),2) >= 350000\").show()\n",
    "\n",
    "print(\"--- %s seconds ---\" % (time.time() - start_time))"
   ]
  },
  {
   "cell_type": "code",
   "execution_count": null,
   "id": "37b0e2b2",
   "metadata": {},
   "outputs": [],
   "source": [
    "# 7. Cache the the temporary table home_sales.\n",
    "spark.sql(\"cache table home_data\")\n"
   ]
  },
  {
   "cell_type": "code",
   "execution_count": null,
   "id": "da257e69",
   "metadata": {},
   "outputs": [],
   "source": [
    "# 8. Check if the table is cached.\n",
    "spark.catalog.isCached('home_sales')"
   ]
  },
  {
   "cell_type": "code",
   "execution_count": null,
   "id": "e80d71b4",
   "metadata": {},
   "outputs": [],
   "source": [
    "# 9. Using the cached data, run the last query above, that calculates \n",
    "# the average price of a home per \"view\" rating, rounded to two decimal places,\n",
    "# having an average home price greater than or equal to $350,000. \n",
    "# Determine the runtime and compare it to the uncached runtime.\n",
    "\n",
    "start_time = time.time()\n",
    "\n",
    "spark.sql(\"SELECT view, ROUND(AVG(price),2) from home_data group by view having ROUND(AVG(price),2) < 350000\").show()\n",
    "\n",
    "print(\"--- %s seconds ---\" % (time.time() - start_time))"
   ]
  },
  {
   "cell_type": "code",
   "execution_count": null,
   "id": "752502fc",
   "metadata": {},
   "outputs": [],
   "source": [
    "# 10. Partition by the \"date_built\" field on the formatted parquet home sales data \n",
    "print(\"the cached runtime of 0.371 seconds was shorter than the original runtime of 0.588 seconds\")"
   ]
  },
  {
   "cell_type": "code",
   "execution_count": null,
   "id": "d04d6f67",
   "metadata": {},
   "outputs": [],
   "source": [
    "# 11. Read the formatted parquet data.\n",
    "home_df.write.parquet('home_parquet', mode='overwrite')"
   ]
  },
  {
   "cell_type": "code",
   "execution_count": null,
   "id": "5e5668c4",
   "metadata": {},
   "outputs": [],
   "source": [
    "# 12. Create a temporary table for the parquet data.\n",
    "parquet_home_df = spark.read.parquet('home_parquet')"
   ]
  },
  {
   "cell_type": "code",
   "execution_count": null,
   "id": "5e7a95af",
   "metadata": {},
   "outputs": [],
   "source": [
    "# 13. Using the parquet DataFrame, run the last query above, that calculates \n",
    "# the average price of a home per \"view\" rating, rounded to two decimal places,\n",
    "# having an average home price greater than or equal to $350,000. \n",
    "# Determine the runtime and compare it to the cached runtime.\n",
    "\n",
    "start_time = time.time()\n",
    "\n",
    "spark.sql(\"SELECT view, ROUND(AVG(price),2) from parquet_temp_home group by view having ROUND(AVG(price),2) < 350000\").show()\n",
    "\n",
    "print(\"--- %s seconds ---\" % (time.time() - start_time))"
   ]
  },
  {
   "cell_type": "code",
   "execution_count": null,
   "id": "34f9d9b4",
   "metadata": {},
   "outputs": [],
   "source": [
    "# Determine the runtime and compare it to the cached version.\n",
    "print(\"the parquet runtime of 0.333 seconds is slightly shorter than the cached runtime of 0.371 seconds\")"
   ]
  },
  {
   "cell_type": "code",
   "execution_count": null,
   "id": "69f52e09",
   "metadata": {},
   "outputs": [],
   "source": [
    "\n",
    "# 14. Uncache the home_sales temporary table.\n",
    "spark.sql(\"uncache table home_data\")\n"
   ]
  },
  {
   "cell_type": "code",
   "execution_count": null,
   "id": "b344776c",
   "metadata": {},
   "outputs": [],
   "source": [
    "# 15. Check if the home_sales is no longer cached\n",
    "spark.catalog.isCached('home_data')"
   ]
  },
  {
   "cell_type": "code",
   "execution_count": null,
   "id": "4aaea493",
   "metadata": {},
   "outputs": [],
   "source": []
  }
 ],
 "metadata": {
  "kernelspec": {
   "display_name": "Python 3 (ipykernel)",
   "language": "python",
   "name": "python3"
  },
  "language_info": {
   "codemirror_mode": {
    "name": "ipython",
    "version": 3
   },
   "file_extension": ".py",
   "mimetype": "text/x-python",
   "name": "python",
   "nbconvert_exporter": "python",
   "pygments_lexer": "ipython3",
   "version": "3.11.5"
  }
 },
 "nbformat": 4,
 "nbformat_minor": 5
}
